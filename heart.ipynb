{
 "cells": [
  {
   "cell_type": "code",
   "execution_count": 1,
   "id": "431bada6-bd51-4368-9f33-aadfd96daf12",
   "metadata": {},
   "outputs": [],
   "source": [
    "import numpy as np\n",
    "import pandas as pd\n",
    "import seaborn as ans\n",
    "from sklearn import svm\n",
    "import statsmodels.api as sm\n",
    "import matplotlib.pyplot as plt\n",
    "from sklearn.metrics import accuracy_score\n",
    "from sklearn.preprocessing import StandardScaler\n",
    "from sklearn.model_selection import train_test_split"
   ]
  },
  {
   "cell_type": "code",
   "execution_count": 2,
   "id": "15917140-e95f-463f-9082-d512b894973c",
   "metadata": {},
   "outputs": [],
   "source": [
    "heart_data=pd.read_csv('E:/medical_diagnosis/dataset_heart.csv')"
   ]
  },
  {
   "cell_type": "code",
   "execution_count": 3,
   "id": "801db281-cda6-4f5a-a649-9e9255f87ba7",
   "metadata": {},
   "outputs": [
    {
     "data": {
      "text/html": [
       "<div>\n",
       "<style scoped>\n",
       "    .dataframe tbody tr th:only-of-type {\n",
       "        vertical-align: middle;\n",
       "    }\n",
       "\n",
       "    .dataframe tbody tr th {\n",
       "        vertical-align: top;\n",
       "    }\n",
       "\n",
       "    .dataframe thead th {\n",
       "        text-align: right;\n",
       "    }\n",
       "</style>\n",
       "<table border=\"1\" class=\"dataframe\">\n",
       "  <thead>\n",
       "    <tr style=\"text-align: right;\">\n",
       "      <th></th>\n",
       "      <th>age</th>\n",
       "      <th>sex</th>\n",
       "      <th>chest pain type</th>\n",
       "      <th>resting blood pressure</th>\n",
       "      <th>serum cholestoral</th>\n",
       "      <th>fasting blood sugar</th>\n",
       "      <th>resting electrocardiographic results</th>\n",
       "      <th>max heart rate</th>\n",
       "      <th>exercise induced angina</th>\n",
       "      <th>oldpeak</th>\n",
       "      <th>ST segment</th>\n",
       "      <th>major vessels</th>\n",
       "      <th>thal</th>\n",
       "      <th>heart disease</th>\n",
       "    </tr>\n",
       "  </thead>\n",
       "  <tbody>\n",
       "    <tr>\n",
       "      <th>0</th>\n",
       "      <td>70</td>\n",
       "      <td>1</td>\n",
       "      <td>4</td>\n",
       "      <td>130</td>\n",
       "      <td>322</td>\n",
       "      <td>0</td>\n",
       "      <td>2</td>\n",
       "      <td>109</td>\n",
       "      <td>0</td>\n",
       "      <td>2.4</td>\n",
       "      <td>2</td>\n",
       "      <td>3</td>\n",
       "      <td>3</td>\n",
       "      <td>2</td>\n",
       "    </tr>\n",
       "    <tr>\n",
       "      <th>1</th>\n",
       "      <td>67</td>\n",
       "      <td>0</td>\n",
       "      <td>3</td>\n",
       "      <td>115</td>\n",
       "      <td>564</td>\n",
       "      <td>0</td>\n",
       "      <td>2</td>\n",
       "      <td>160</td>\n",
       "      <td>0</td>\n",
       "      <td>1.6</td>\n",
       "      <td>2</td>\n",
       "      <td>0</td>\n",
       "      <td>7</td>\n",
       "      <td>1</td>\n",
       "    </tr>\n",
       "    <tr>\n",
       "      <th>2</th>\n",
       "      <td>57</td>\n",
       "      <td>1</td>\n",
       "      <td>2</td>\n",
       "      <td>124</td>\n",
       "      <td>261</td>\n",
       "      <td>0</td>\n",
       "      <td>0</td>\n",
       "      <td>141</td>\n",
       "      <td>0</td>\n",
       "      <td>0.3</td>\n",
       "      <td>1</td>\n",
       "      <td>0</td>\n",
       "      <td>7</td>\n",
       "      <td>2</td>\n",
       "    </tr>\n",
       "    <tr>\n",
       "      <th>3</th>\n",
       "      <td>64</td>\n",
       "      <td>1</td>\n",
       "      <td>4</td>\n",
       "      <td>128</td>\n",
       "      <td>263</td>\n",
       "      <td>0</td>\n",
       "      <td>0</td>\n",
       "      <td>105</td>\n",
       "      <td>1</td>\n",
       "      <td>0.2</td>\n",
       "      <td>2</td>\n",
       "      <td>1</td>\n",
       "      <td>7</td>\n",
       "      <td>1</td>\n",
       "    </tr>\n",
       "    <tr>\n",
       "      <th>4</th>\n",
       "      <td>74</td>\n",
       "      <td>0</td>\n",
       "      <td>2</td>\n",
       "      <td>120</td>\n",
       "      <td>269</td>\n",
       "      <td>0</td>\n",
       "      <td>2</td>\n",
       "      <td>121</td>\n",
       "      <td>1</td>\n",
       "      <td>0.2</td>\n",
       "      <td>1</td>\n",
       "      <td>1</td>\n",
       "      <td>3</td>\n",
       "      <td>1</td>\n",
       "    </tr>\n",
       "  </tbody>\n",
       "</table>\n",
       "</div>"
      ],
      "text/plain": [
       "   age  sex   chest pain type  resting blood pressure  serum cholestoral  \\\n",
       "0   70     1                4                     130                322   \n",
       "1   67     0                3                     115                564   \n",
       "2   57     1                2                     124                261   \n",
       "3   64     1                4                     128                263   \n",
       "4   74     0                2                     120                269   \n",
       "\n",
       "   fasting blood sugar  resting electrocardiographic results  max heart rate  \\\n",
       "0                    0                                     2             109   \n",
       "1                    0                                     2             160   \n",
       "2                    0                                     0             141   \n",
       "3                    0                                     0             105   \n",
       "4                    0                                     2             121   \n",
       "\n",
       "   exercise induced angina  oldpeak  ST segment  major vessels  thal  \\\n",
       "0                        0      2.4           2              3     3   \n",
       "1                        0      1.6           2              0     7   \n",
       "2                        0      0.3           1              0     7   \n",
       "3                        1      0.2           2              1     7   \n",
       "4                        1      0.2           1              1     3   \n",
       "\n",
       "   heart disease  \n",
       "0              2  \n",
       "1              1  \n",
       "2              2  \n",
       "3              1  \n",
       "4              1  "
      ]
     },
     "execution_count": 3,
     "metadata": {},
     "output_type": "execute_result"
    }
   ],
   "source": [
    "heart_data.head()"
   ]
  },
  {
   "cell_type": "code",
   "execution_count": 4,
   "id": "642c045b-cfbb-47ee-aa4d-dd5e71d222f7",
   "metadata": {},
   "outputs": [
    {
     "data": {
      "text/html": [
       "<div>\n",
       "<style scoped>\n",
       "    .dataframe tbody tr th:only-of-type {\n",
       "        vertical-align: middle;\n",
       "    }\n",
       "\n",
       "    .dataframe tbody tr th {\n",
       "        vertical-align: top;\n",
       "    }\n",
       "\n",
       "    .dataframe thead th {\n",
       "        text-align: right;\n",
       "    }\n",
       "</style>\n",
       "<table border=\"1\" class=\"dataframe\">\n",
       "  <thead>\n",
       "    <tr style=\"text-align: right;\">\n",
       "      <th></th>\n",
       "      <th>age</th>\n",
       "      <th>sex</th>\n",
       "      <th>chest pain type</th>\n",
       "      <th>resting blood pressure</th>\n",
       "      <th>serum cholestoral</th>\n",
       "      <th>fasting blood sugar</th>\n",
       "      <th>resting electrocardiographic results</th>\n",
       "      <th>max heart rate</th>\n",
       "      <th>exercise induced angina</th>\n",
       "      <th>oldpeak</th>\n",
       "      <th>ST segment</th>\n",
       "      <th>major vessels</th>\n",
       "      <th>thal</th>\n",
       "      <th>heart disease</th>\n",
       "    </tr>\n",
       "  </thead>\n",
       "  <tbody>\n",
       "    <tr>\n",
       "      <th>265</th>\n",
       "      <td>52</td>\n",
       "      <td>1</td>\n",
       "      <td>3</td>\n",
       "      <td>172</td>\n",
       "      <td>199</td>\n",
       "      <td>1</td>\n",
       "      <td>0</td>\n",
       "      <td>162</td>\n",
       "      <td>0</td>\n",
       "      <td>0.5</td>\n",
       "      <td>1</td>\n",
       "      <td>0</td>\n",
       "      <td>7</td>\n",
       "      <td>1</td>\n",
       "    </tr>\n",
       "    <tr>\n",
       "      <th>266</th>\n",
       "      <td>44</td>\n",
       "      <td>1</td>\n",
       "      <td>2</td>\n",
       "      <td>120</td>\n",
       "      <td>263</td>\n",
       "      <td>0</td>\n",
       "      <td>0</td>\n",
       "      <td>173</td>\n",
       "      <td>0</td>\n",
       "      <td>0.0</td>\n",
       "      <td>1</td>\n",
       "      <td>0</td>\n",
       "      <td>7</td>\n",
       "      <td>1</td>\n",
       "    </tr>\n",
       "    <tr>\n",
       "      <th>267</th>\n",
       "      <td>56</td>\n",
       "      <td>0</td>\n",
       "      <td>2</td>\n",
       "      <td>140</td>\n",
       "      <td>294</td>\n",
       "      <td>0</td>\n",
       "      <td>2</td>\n",
       "      <td>153</td>\n",
       "      <td>0</td>\n",
       "      <td>1.3</td>\n",
       "      <td>2</td>\n",
       "      <td>0</td>\n",
       "      <td>3</td>\n",
       "      <td>1</td>\n",
       "    </tr>\n",
       "    <tr>\n",
       "      <th>268</th>\n",
       "      <td>57</td>\n",
       "      <td>1</td>\n",
       "      <td>4</td>\n",
       "      <td>140</td>\n",
       "      <td>192</td>\n",
       "      <td>0</td>\n",
       "      <td>0</td>\n",
       "      <td>148</td>\n",
       "      <td>0</td>\n",
       "      <td>0.4</td>\n",
       "      <td>2</td>\n",
       "      <td>0</td>\n",
       "      <td>6</td>\n",
       "      <td>1</td>\n",
       "    </tr>\n",
       "    <tr>\n",
       "      <th>269</th>\n",
       "      <td>67</td>\n",
       "      <td>1</td>\n",
       "      <td>4</td>\n",
       "      <td>160</td>\n",
       "      <td>286</td>\n",
       "      <td>0</td>\n",
       "      <td>2</td>\n",
       "      <td>108</td>\n",
       "      <td>1</td>\n",
       "      <td>1.5</td>\n",
       "      <td>2</td>\n",
       "      <td>3</td>\n",
       "      <td>3</td>\n",
       "      <td>2</td>\n",
       "    </tr>\n",
       "  </tbody>\n",
       "</table>\n",
       "</div>"
      ],
      "text/plain": [
       "     age  sex   chest pain type  resting blood pressure  serum cholestoral  \\\n",
       "265   52     1                3                     172                199   \n",
       "266   44     1                2                     120                263   \n",
       "267   56     0                2                     140                294   \n",
       "268   57     1                4                     140                192   \n",
       "269   67     1                4                     160                286   \n",
       "\n",
       "     fasting blood sugar  resting electrocardiographic results  \\\n",
       "265                    1                                     0   \n",
       "266                    0                                     0   \n",
       "267                    0                                     2   \n",
       "268                    0                                     0   \n",
       "269                    0                                     2   \n",
       "\n",
       "     max heart rate  exercise induced angina  oldpeak  ST segment  \\\n",
       "265             162                        0      0.5           1   \n",
       "266             173                        0      0.0           1   \n",
       "267             153                        0      1.3           2   \n",
       "268             148                        0      0.4           2   \n",
       "269             108                        1      1.5           2   \n",
       "\n",
       "     major vessels  thal  heart disease  \n",
       "265              0     7              1  \n",
       "266              0     7              1  \n",
       "267              0     3              1  \n",
       "268              0     6              1  \n",
       "269              3     3              2  "
      ]
     },
     "execution_count": 4,
     "metadata": {},
     "output_type": "execute_result"
    }
   ],
   "source": [
    "heart_data.tail()"
   ]
  },
  {
   "cell_type": "code",
   "execution_count": 5,
   "id": "06169397-c1f6-4509-9ca6-fe8a1065c16f",
   "metadata": {},
   "outputs": [
    {
     "data": {
      "text/plain": [
       "(270, 14)"
      ]
     },
     "execution_count": 5,
     "metadata": {},
     "output_type": "execute_result"
    }
   ],
   "source": [
    "heart_data.shape"
   ]
  },
  {
   "cell_type": "code",
   "execution_count": 6,
   "id": "1e2f47c9-7d97-4f04-bc30-b73a88c449d7",
   "metadata": {},
   "outputs": [
    {
     "data": {
      "text/plain": [
       "<bound method DataFrame.info of      age  sex   chest pain type  resting blood pressure  serum cholestoral  \\\n",
       "0     70     1                4                     130                322   \n",
       "1     67     0                3                     115                564   \n",
       "2     57     1                2                     124                261   \n",
       "3     64     1                4                     128                263   \n",
       "4     74     0                2                     120                269   \n",
       "..   ...   ...              ...                     ...                ...   \n",
       "265   52     1                3                     172                199   \n",
       "266   44     1                2                     120                263   \n",
       "267   56     0                2                     140                294   \n",
       "268   57     1                4                     140                192   \n",
       "269   67     1                4                     160                286   \n",
       "\n",
       "     fasting blood sugar  resting electrocardiographic results  \\\n",
       "0                      0                                     2   \n",
       "1                      0                                     2   \n",
       "2                      0                                     0   \n",
       "3                      0                                     0   \n",
       "4                      0                                     2   \n",
       "..                   ...                                   ...   \n",
       "265                    1                                     0   \n",
       "266                    0                                     0   \n",
       "267                    0                                     2   \n",
       "268                    0                                     0   \n",
       "269                    0                                     2   \n",
       "\n",
       "     max heart rate  exercise induced angina  oldpeak  ST segment  \\\n",
       "0               109                        0      2.4           2   \n",
       "1               160                        0      1.6           2   \n",
       "2               141                        0      0.3           1   \n",
       "3               105                        1      0.2           2   \n",
       "4               121                        1      0.2           1   \n",
       "..              ...                      ...      ...         ...   \n",
       "265             162                        0      0.5           1   \n",
       "266             173                        0      0.0           1   \n",
       "267             153                        0      1.3           2   \n",
       "268             148                        0      0.4           2   \n",
       "269             108                        1      1.5           2   \n",
       "\n",
       "     major vessels  thal  heart disease  \n",
       "0                3     3              2  \n",
       "1                0     7              1  \n",
       "2                0     7              2  \n",
       "3                1     7              1  \n",
       "4                1     3              1  \n",
       "..             ...   ...            ...  \n",
       "265              0     7              1  \n",
       "266              0     7              1  \n",
       "267              0     3              1  \n",
       "268              0     6              1  \n",
       "269              3     3              2  \n",
       "\n",
       "[270 rows x 14 columns]>"
      ]
     },
     "execution_count": 6,
     "metadata": {},
     "output_type": "execute_result"
    }
   ],
   "source": [
    "heart_data.info"
   ]
  },
  {
   "cell_type": "code",
   "execution_count": 8,
   "id": "2e2f3129-38a1-4989-a24c-f62ad9e45424",
   "metadata": {},
   "outputs": [
    {
     "data": {
      "text/plain": [
       "age                                     0\n",
       "sex                                     0\n",
       "chest pain type                         0\n",
       "resting blood pressure                  0\n",
       "serum cholestoral                       0\n",
       "fasting blood sugar                     0\n",
       "resting electrocardiographic results    0\n",
       "max heart rate                          0\n",
       "exercise induced angina                 0\n",
       "oldpeak                                 0\n",
       "ST segment                              0\n",
       "major vessels                           0\n",
       "thal                                    0\n",
       "heart disease                           0\n",
       "dtype: int64"
      ]
     },
     "execution_count": 8,
     "metadata": {},
     "output_type": "execute_result"
    }
   ],
   "source": [
    "heart_data.isnull().sum()"
   ]
  },
  {
   "cell_type": "code",
   "execution_count": 9,
   "id": "d28d6c6c-c2ac-49ea-a2bb-7af09286e400",
   "metadata": {},
   "outputs": [
    {
     "data": {
      "text/plain": [
       "<bound method NDFrame.describe of      age  sex   chest pain type  resting blood pressure  serum cholestoral  \\\n",
       "0     70     1                4                     130                322   \n",
       "1     67     0                3                     115                564   \n",
       "2     57     1                2                     124                261   \n",
       "3     64     1                4                     128                263   \n",
       "4     74     0                2                     120                269   \n",
       "..   ...   ...              ...                     ...                ...   \n",
       "265   52     1                3                     172                199   \n",
       "266   44     1                2                     120                263   \n",
       "267   56     0                2                     140                294   \n",
       "268   57     1                4                     140                192   \n",
       "269   67     1                4                     160                286   \n",
       "\n",
       "     fasting blood sugar  resting electrocardiographic results  \\\n",
       "0                      0                                     2   \n",
       "1                      0                                     2   \n",
       "2                      0                                     0   \n",
       "3                      0                                     0   \n",
       "4                      0                                     2   \n",
       "..                   ...                                   ...   \n",
       "265                    1                                     0   \n",
       "266                    0                                     0   \n",
       "267                    0                                     2   \n",
       "268                    0                                     0   \n",
       "269                    0                                     2   \n",
       "\n",
       "     max heart rate  exercise induced angina  oldpeak  ST segment  \\\n",
       "0               109                        0      2.4           2   \n",
       "1               160                        0      1.6           2   \n",
       "2               141                        0      0.3           1   \n",
       "3               105                        1      0.2           2   \n",
       "4               121                        1      0.2           1   \n",
       "..              ...                      ...      ...         ...   \n",
       "265             162                        0      0.5           1   \n",
       "266             173                        0      0.0           1   \n",
       "267             153                        0      1.3           2   \n",
       "268             148                        0      0.4           2   \n",
       "269             108                        1      1.5           2   \n",
       "\n",
       "     major vessels  thal  heart disease  \n",
       "0                3     3              2  \n",
       "1                0     7              1  \n",
       "2                0     7              2  \n",
       "3                1     7              1  \n",
       "4                1     3              1  \n",
       "..             ...   ...            ...  \n",
       "265              0     7              1  \n",
       "266              0     7              1  \n",
       "267              0     3              1  \n",
       "268              0     6              1  \n",
       "269              3     3              2  \n",
       "\n",
       "[270 rows x 14 columns]>"
      ]
     },
     "execution_count": 9,
     "metadata": {},
     "output_type": "execute_result"
    }
   ],
   "source": [
    "heart_data.describe"
   ]
  },
  {
   "cell_type": "code",
   "execution_count": 11,
   "id": "8d7f158a-c161-4115-815e-3e7600364ccb",
   "metadata": {},
   "outputs": [
    {
     "data": {
      "text/plain": [
       "heart disease\n",
       "1    150\n",
       "2    120\n",
       "Name: count, dtype: int64"
      ]
     },
     "execution_count": 11,
     "metadata": {},
     "output_type": "execute_result"
    }
   ],
   "source": [
    "heart_data['heart disease'].value_counts()"
   ]
  },
  {
   "cell_type": "code",
   "execution_count": 13,
   "id": "23ed3b24-3186-411a-83a6-863b2f2972f0",
   "metadata": {},
   "outputs": [],
   "source": [
    "x=heart_data.drop(columns=['heart disease'],axis=1)\n",
    "y=heart_data['heart disease']"
   ]
  },
  {
   "cell_type": "code",
   "execution_count": 14,
   "id": "04231433-c1fe-4147-b196-5a5f94882fff",
   "metadata": {},
   "outputs": [
    {
     "name": "stdout",
     "output_type": "stream",
     "text": [
      "     age  sex   chest pain type  resting blood pressure  serum cholestoral  \\\n",
      "0     70     1                4                     130                322   \n",
      "1     67     0                3                     115                564   \n",
      "2     57     1                2                     124                261   \n",
      "3     64     1                4                     128                263   \n",
      "4     74     0                2                     120                269   \n",
      "..   ...   ...              ...                     ...                ...   \n",
      "265   52     1                3                     172                199   \n",
      "266   44     1                2                     120                263   \n",
      "267   56     0                2                     140                294   \n",
      "268   57     1                4                     140                192   \n",
      "269   67     1                4                     160                286   \n",
      "\n",
      "     fasting blood sugar  resting electrocardiographic results  \\\n",
      "0                      0                                     2   \n",
      "1                      0                                     2   \n",
      "2                      0                                     0   \n",
      "3                      0                                     0   \n",
      "4                      0                                     2   \n",
      "..                   ...                                   ...   \n",
      "265                    1                                     0   \n",
      "266                    0                                     0   \n",
      "267                    0                                     2   \n",
      "268                    0                                     0   \n",
      "269                    0                                     2   \n",
      "\n",
      "     max heart rate  exercise induced angina  oldpeak  ST segment  \\\n",
      "0               109                        0      2.4           2   \n",
      "1               160                        0      1.6           2   \n",
      "2               141                        0      0.3           1   \n",
      "3               105                        1      0.2           2   \n",
      "4               121                        1      0.2           1   \n",
      "..              ...                      ...      ...         ...   \n",
      "265             162                        0      0.5           1   \n",
      "266             173                        0      0.0           1   \n",
      "267             153                        0      1.3           2   \n",
      "268             148                        0      0.4           2   \n",
      "269             108                        1      1.5           2   \n",
      "\n",
      "     major vessels  thal  \n",
      "0                3     3  \n",
      "1                0     7  \n",
      "2                0     7  \n",
      "3                1     7  \n",
      "4                1     3  \n",
      "..             ...   ...  \n",
      "265              0     7  \n",
      "266              0     7  \n",
      "267              0     3  \n",
      "268              0     6  \n",
      "269              3     3  \n",
      "\n",
      "[270 rows x 13 columns]\n"
     ]
    }
   ],
   "source": [
    "print(x)"
   ]
  },
  {
   "cell_type": "code",
   "execution_count": 15,
   "id": "7a2c3a6a-add9-43cd-9ad5-8a851aaea985",
   "metadata": {},
   "outputs": [
    {
     "name": "stdout",
     "output_type": "stream",
     "text": [
      "0      2\n",
      "1      1\n",
      "2      2\n",
      "3      1\n",
      "4      1\n",
      "      ..\n",
      "265    1\n",
      "266    1\n",
      "267    1\n",
      "268    1\n",
      "269    2\n",
      "Name: heart disease, Length: 270, dtype: int64\n"
     ]
    }
   ],
   "source": [
    "print(y)"
   ]
  },
  {
   "cell_type": "code",
   "execution_count": 16,
   "id": "763f2a65-cb45-4a7b-a456-c8965b185c5d",
   "metadata": {},
   "outputs": [],
   "source": [
    "x_train,x_test,y_train,y_test=train_test_split(x,y,test_size=0.2,random_state=2)"
   ]
  },
  {
   "cell_type": "code",
   "execution_count": 17,
   "id": "1d86eeae-6bae-4534-baa2-b7605ac756ce",
   "metadata": {},
   "outputs": [
    {
     "name": "stdout",
     "output_type": "stream",
     "text": [
      "(270, 13) (216, 13) (54, 13)\n"
     ]
    }
   ],
   "source": [
    "print(x.shape,x_train.shape,x_test.shape)"
   ]
  },
  {
   "cell_type": "code",
   "execution_count": 18,
   "id": "77ccd5cd-a28e-4af1-9d54-7cf189f45546",
   "metadata": {},
   "outputs": [],
   "source": [
    "model=svm.SVC(kernel='linear')"
   ]
  },
  {
   "cell_type": "code",
   "execution_count": 19,
   "id": "c7dfba2f-6313-483d-9d77-ed673600c0b2",
   "metadata": {},
   "outputs": [
    {
     "data": {
      "text/html": [
       "<style>#sk-container-id-1 {color: black;background-color: white;}#sk-container-id-1 pre{padding: 0;}#sk-container-id-1 div.sk-toggleable {background-color: white;}#sk-container-id-1 label.sk-toggleable__label {cursor: pointer;display: block;width: 100%;margin-bottom: 0;padding: 0.3em;box-sizing: border-box;text-align: center;}#sk-container-id-1 label.sk-toggleable__label-arrow:before {content: \"▸\";float: left;margin-right: 0.25em;color: #696969;}#sk-container-id-1 label.sk-toggleable__label-arrow:hover:before {color: black;}#sk-container-id-1 div.sk-estimator:hover label.sk-toggleable__label-arrow:before {color: black;}#sk-container-id-1 div.sk-toggleable__content {max-height: 0;max-width: 0;overflow: hidden;text-align: left;background-color: #f0f8ff;}#sk-container-id-1 div.sk-toggleable__content pre {margin: 0.2em;color: black;border-radius: 0.25em;background-color: #f0f8ff;}#sk-container-id-1 input.sk-toggleable__control:checked~div.sk-toggleable__content {max-height: 200px;max-width: 100%;overflow: auto;}#sk-container-id-1 input.sk-toggleable__control:checked~label.sk-toggleable__label-arrow:before {content: \"▾\";}#sk-container-id-1 div.sk-estimator input.sk-toggleable__control:checked~label.sk-toggleable__label {background-color: #d4ebff;}#sk-container-id-1 div.sk-label input.sk-toggleable__control:checked~label.sk-toggleable__label {background-color: #d4ebff;}#sk-container-id-1 input.sk-hidden--visually {border: 0;clip: rect(1px 1px 1px 1px);clip: rect(1px, 1px, 1px, 1px);height: 1px;margin: -1px;overflow: hidden;padding: 0;position: absolute;width: 1px;}#sk-container-id-1 div.sk-estimator {font-family: monospace;background-color: #f0f8ff;border: 1px dotted black;border-radius: 0.25em;box-sizing: border-box;margin-bottom: 0.5em;}#sk-container-id-1 div.sk-estimator:hover {background-color: #d4ebff;}#sk-container-id-1 div.sk-parallel-item::after {content: \"\";width: 100%;border-bottom: 1px solid gray;flex-grow: 1;}#sk-container-id-1 div.sk-label:hover label.sk-toggleable__label {background-color: #d4ebff;}#sk-container-id-1 div.sk-serial::before {content: \"\";position: absolute;border-left: 1px solid gray;box-sizing: border-box;top: 0;bottom: 0;left: 50%;z-index: 0;}#sk-container-id-1 div.sk-serial {display: flex;flex-direction: column;align-items: center;background-color: white;padding-right: 0.2em;padding-left: 0.2em;position: relative;}#sk-container-id-1 div.sk-item {position: relative;z-index: 1;}#sk-container-id-1 div.sk-parallel {display: flex;align-items: stretch;justify-content: center;background-color: white;position: relative;}#sk-container-id-1 div.sk-item::before, #sk-container-id-1 div.sk-parallel-item::before {content: \"\";position: absolute;border-left: 1px solid gray;box-sizing: border-box;top: 0;bottom: 0;left: 50%;z-index: -1;}#sk-container-id-1 div.sk-parallel-item {display: flex;flex-direction: column;z-index: 1;position: relative;background-color: white;}#sk-container-id-1 div.sk-parallel-item:first-child::after {align-self: flex-end;width: 50%;}#sk-container-id-1 div.sk-parallel-item:last-child::after {align-self: flex-start;width: 50%;}#sk-container-id-1 div.sk-parallel-item:only-child::after {width: 0;}#sk-container-id-1 div.sk-dashed-wrapped {border: 1px dashed gray;margin: 0 0.4em 0.5em 0.4em;box-sizing: border-box;padding-bottom: 0.4em;background-color: white;}#sk-container-id-1 div.sk-label label {font-family: monospace;font-weight: bold;display: inline-block;line-height: 1.2em;}#sk-container-id-1 div.sk-label-container {text-align: center;}#sk-container-id-1 div.sk-container {/* jupyter's `normalize.less` sets `[hidden] { display: none; }` but bootstrap.min.css set `[hidden] { display: none !important; }` so we also need the `!important` here to be able to override the default hidden behavior on the sphinx rendered scikit-learn.org. See: https://github.com/scikit-learn/scikit-learn/issues/21755 */display: inline-block !important;position: relative;}#sk-container-id-1 div.sk-text-repr-fallback {display: none;}</style><div id=\"sk-container-id-1\" class=\"sk-top-container\"><div class=\"sk-text-repr-fallback\"><pre>SVC(kernel=&#x27;linear&#x27;)</pre><b>In a Jupyter environment, please rerun this cell to show the HTML representation or trust the notebook. <br />On GitHub, the HTML representation is unable to render, please try loading this page with nbviewer.org.</b></div><div class=\"sk-container\" hidden><div class=\"sk-item\"><div class=\"sk-estimator sk-toggleable\"><input class=\"sk-toggleable__control sk-hidden--visually\" id=\"sk-estimator-id-1\" type=\"checkbox\" checked><label for=\"sk-estimator-id-1\" class=\"sk-toggleable__label sk-toggleable__label-arrow\">SVC</label><div class=\"sk-toggleable__content\"><pre>SVC(kernel=&#x27;linear&#x27;)</pre></div></div></div></div></div>"
      ],
      "text/plain": [
       "SVC(kernel='linear')"
      ]
     },
     "execution_count": 19,
     "metadata": {},
     "output_type": "execute_result"
    }
   ],
   "source": [
    "model.fit(x_train,y_train)"
   ]
  },
  {
   "cell_type": "code",
   "execution_count": 20,
   "id": "45d51bea-4736-4b23-99fc-00b4ceffcf76",
   "metadata": {},
   "outputs": [],
   "source": [
    "x_train_prediction=model.predict(x_train)\n",
    "training_data_accuracy=accuracy_score(y_train,x_train_prediction)"
   ]
  },
  {
   "cell_type": "code",
   "execution_count": 21,
   "id": "bed351d5-41a3-47ef-98b6-681621f8b91c",
   "metadata": {},
   "outputs": [
    {
     "name": "stdout",
     "output_type": "stream",
     "text": [
      "accuracy of training data: 0.8935185185185185\n"
     ]
    }
   ],
   "source": [
    "print('accuracy of training data:',training_data_accuracy)"
   ]
  },
  {
   "cell_type": "code",
   "execution_count": 22,
   "id": "16d81913-549d-4d3a-9c7a-4063e89c6e7c",
   "metadata": {},
   "outputs": [],
   "source": [
    "x_test_prediction=model.predict(x_test)\n",
    "test_data_accuracy=accuracy_score(y_test,x_test_prediction)"
   ]
  },
  {
   "cell_type": "code",
   "execution_count": 23,
   "id": "e1b1fb37-af29-4176-88a5-3efdb102ece9",
   "metadata": {},
   "outputs": [
    {
     "name": "stdout",
     "output_type": "stream",
     "text": [
      "accuracy of test data: 0.7407407407407407\n"
     ]
    }
   ],
   "source": [
    "print('accuracy of test data:',test_data_accuracy)"
   ]
  },
  {
   "cell_type": "code",
   "execution_count": 25,
   "id": "6c64ca08-a5d7-4385-95bd-8c599d2bff4b",
   "metadata": {},
   "outputs": [
    {
     "name": "stdout",
     "output_type": "stream",
     "text": [
      "The person HAS heart disease.\n"
     ]
    },
    {
     "name": "stderr",
     "output_type": "stream",
     "text": [
      "C:\\ProgramData\\anaconda3\\Lib\\site-packages\\sklearn\\base.py:439: UserWarning: X does not have valid feature names, but SVC was fitted with feature names\n",
      "  warnings.warn(\n"
     ]
    }
   ],
   "source": [
    "from sklearn.preprocessing import StandardScaler\n",
    "import numpy as np\n",
    "\n",
    "# Define input data for prediction (replace with actual values)\n",
    "input_data = (57, 1, 2, 124, 261, 0, 0, 141, 0, 0.3, 1, 0, 7) \n",
    "input_data_as_numpy_array = np.asarray(input_data)\n",
    "input_data_reshaped = input_data_as_numpy_array.reshape(1, -1)\n",
    "\n",
    "# Make prediction\n",
    "prediction = model.predict(input_data_reshaped)\n",
    "\n",
    "# Print results\n",
    "if prediction[0] == 0:\n",
    "    print(\"The person does NOT have heart disease.\")\n",
    "else:\n",
    "    print(\"The person HAS heart disease.\")\n"
   ]
  },
  {
   "cell_type": "code",
   "execution_count": 26,
   "id": "e3f86f29-33cb-459c-a02d-6ef9bc858cc7",
   "metadata": {},
   "outputs": [],
   "source": [
    "import pickle\n",
    "filename='parkinsons_model_sav'\n",
    "pickle.dump(model,open(filename,'wb'))"
   ]
  },
  {
   "cell_type": "code",
   "execution_count": null,
   "id": "45f52ca1-4b5a-425d-9e14-5643532969e3",
   "metadata": {},
   "outputs": [],
   "source": []
  }
 ],
 "metadata": {
  "kernelspec": {
   "display_name": "Python 3 (ipykernel)",
   "language": "python",
   "name": "python3"
  },
  "language_info": {
   "codemirror_mode": {
    "name": "ipython",
    "version": 3
   },
   "file_extension": ".py",
   "mimetype": "text/x-python",
   "name": "python",
   "nbconvert_exporter": "python",
   "pygments_lexer": "ipython3",
   "version": "3.11.7"
  }
 },
 "nbformat": 4,
 "nbformat_minor": 5
}
