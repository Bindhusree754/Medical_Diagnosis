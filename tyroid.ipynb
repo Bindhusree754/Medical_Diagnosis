{
 "cells": [
  {
   "cell_type": "code",
   "execution_count": 1,
   "id": "7141b2a6-01a4-48b1-99b5-00c04856bad1",
   "metadata": {},
   "outputs": [],
   "source": [
    "import numpy as np\n",
    "import pandas as pd\n",
    "import seaborn as ans\n",
    "from sklearn import svm\n",
    "import statsmodels.api as sm\n",
    "import matplotlib.pyplot as plt\n",
    "from sklearn.metrics import accuracy_score\n",
    "from sklearn.preprocessing import StandardScaler\n",
    "from sklearn.model_selection import train_test_split"
   ]
  },
  {
   "cell_type": "code",
   "execution_count": 3,
   "id": "2b23cf3e-38a0-4d4d-b2e0-3b3ef2f6012f",
   "metadata": {},
   "outputs": [],
   "source": [
    "ty_data=pd.read_csv('E:/medical_diagnosis/thyroidDF.csv')"
   ]
  },
  {
   "cell_type": "code",
   "execution_count": 5,
   "id": "1679d058-5fce-4c32-94cf-f39ce2ff3f0e",
   "metadata": {},
   "outputs": [
    {
     "data": {
      "text/html": [
       "<div>\n",
       "<style scoped>\n",
       "    .dataframe tbody tr th:only-of-type {\n",
       "        vertical-align: middle;\n",
       "    }\n",
       "\n",
       "    .dataframe tbody tr th {\n",
       "        vertical-align: top;\n",
       "    }\n",
       "\n",
       "    .dataframe thead th {\n",
       "        text-align: right;\n",
       "    }\n",
       "</style>\n",
       "<table border=\"1\" class=\"dataframe\">\n",
       "  <thead>\n",
       "    <tr style=\"text-align: right;\">\n",
       "      <th></th>\n",
       "      <th>age</th>\n",
       "      <th>sex</th>\n",
       "      <th>on_thyroxine</th>\n",
       "      <th>query_on_thyroxine</th>\n",
       "      <th>on_antithyroid_meds</th>\n",
       "      <th>sick</th>\n",
       "      <th>pregnant</th>\n",
       "      <th>thyroid_surgery</th>\n",
       "      <th>I131_treatment</th>\n",
       "      <th>query_hypothyroid</th>\n",
       "      <th>...</th>\n",
       "      <th>TT4</th>\n",
       "      <th>T4U_measured</th>\n",
       "      <th>T4U</th>\n",
       "      <th>FTI_measured</th>\n",
       "      <th>FTI</th>\n",
       "      <th>TBG_measured</th>\n",
       "      <th>TBG</th>\n",
       "      <th>referral_source</th>\n",
       "      <th>target</th>\n",
       "      <th>patient_id</th>\n",
       "    </tr>\n",
       "  </thead>\n",
       "  <tbody>\n",
       "    <tr>\n",
       "      <th>0</th>\n",
       "      <td>29</td>\n",
       "      <td>F</td>\n",
       "      <td>f</td>\n",
       "      <td>f</td>\n",
       "      <td>f</td>\n",
       "      <td>f</td>\n",
       "      <td>f</td>\n",
       "      <td>f</td>\n",
       "      <td>f</td>\n",
       "      <td>t</td>\n",
       "      <td>...</td>\n",
       "      <td>NaN</td>\n",
       "      <td>f</td>\n",
       "      <td>NaN</td>\n",
       "      <td>f</td>\n",
       "      <td>NaN</td>\n",
       "      <td>f</td>\n",
       "      <td>NaN</td>\n",
       "      <td>other</td>\n",
       "      <td>-</td>\n",
       "      <td>840801013</td>\n",
       "    </tr>\n",
       "    <tr>\n",
       "      <th>1</th>\n",
       "      <td>29</td>\n",
       "      <td>F</td>\n",
       "      <td>f</td>\n",
       "      <td>f</td>\n",
       "      <td>f</td>\n",
       "      <td>f</td>\n",
       "      <td>f</td>\n",
       "      <td>f</td>\n",
       "      <td>f</td>\n",
       "      <td>f</td>\n",
       "      <td>...</td>\n",
       "      <td>128.0</td>\n",
       "      <td>f</td>\n",
       "      <td>NaN</td>\n",
       "      <td>f</td>\n",
       "      <td>NaN</td>\n",
       "      <td>f</td>\n",
       "      <td>NaN</td>\n",
       "      <td>other</td>\n",
       "      <td>-</td>\n",
       "      <td>840801014</td>\n",
       "    </tr>\n",
       "    <tr>\n",
       "      <th>2</th>\n",
       "      <td>41</td>\n",
       "      <td>F</td>\n",
       "      <td>f</td>\n",
       "      <td>f</td>\n",
       "      <td>f</td>\n",
       "      <td>f</td>\n",
       "      <td>f</td>\n",
       "      <td>f</td>\n",
       "      <td>f</td>\n",
       "      <td>f</td>\n",
       "      <td>...</td>\n",
       "      <td>NaN</td>\n",
       "      <td>f</td>\n",
       "      <td>NaN</td>\n",
       "      <td>f</td>\n",
       "      <td>NaN</td>\n",
       "      <td>t</td>\n",
       "      <td>11.0</td>\n",
       "      <td>other</td>\n",
       "      <td>-</td>\n",
       "      <td>840801042</td>\n",
       "    </tr>\n",
       "    <tr>\n",
       "      <th>3</th>\n",
       "      <td>36</td>\n",
       "      <td>F</td>\n",
       "      <td>f</td>\n",
       "      <td>f</td>\n",
       "      <td>f</td>\n",
       "      <td>f</td>\n",
       "      <td>f</td>\n",
       "      <td>f</td>\n",
       "      <td>f</td>\n",
       "      <td>f</td>\n",
       "      <td>...</td>\n",
       "      <td>NaN</td>\n",
       "      <td>f</td>\n",
       "      <td>NaN</td>\n",
       "      <td>f</td>\n",
       "      <td>NaN</td>\n",
       "      <td>t</td>\n",
       "      <td>26.0</td>\n",
       "      <td>other</td>\n",
       "      <td>-</td>\n",
       "      <td>840803046</td>\n",
       "    </tr>\n",
       "    <tr>\n",
       "      <th>4</th>\n",
       "      <td>32</td>\n",
       "      <td>F</td>\n",
       "      <td>f</td>\n",
       "      <td>f</td>\n",
       "      <td>f</td>\n",
       "      <td>f</td>\n",
       "      <td>f</td>\n",
       "      <td>f</td>\n",
       "      <td>f</td>\n",
       "      <td>f</td>\n",
       "      <td>...</td>\n",
       "      <td>NaN</td>\n",
       "      <td>f</td>\n",
       "      <td>NaN</td>\n",
       "      <td>f</td>\n",
       "      <td>NaN</td>\n",
       "      <td>t</td>\n",
       "      <td>36.0</td>\n",
       "      <td>other</td>\n",
       "      <td>S</td>\n",
       "      <td>840803047</td>\n",
       "    </tr>\n",
       "  </tbody>\n",
       "</table>\n",
       "<p>5 rows × 31 columns</p>\n",
       "</div>"
      ],
      "text/plain": [
       "   age sex on_thyroxine query_on_thyroxine on_antithyroid_meds sick pregnant  \\\n",
       "0   29   F            f                  f                   f    f        f   \n",
       "1   29   F            f                  f                   f    f        f   \n",
       "2   41   F            f                  f                   f    f        f   \n",
       "3   36   F            f                  f                   f    f        f   \n",
       "4   32   F            f                  f                   f    f        f   \n",
       "\n",
       "  thyroid_surgery I131_treatment query_hypothyroid  ...    TT4 T4U_measured  \\\n",
       "0               f              f                 t  ...    NaN            f   \n",
       "1               f              f                 f  ...  128.0            f   \n",
       "2               f              f                 f  ...    NaN            f   \n",
       "3               f              f                 f  ...    NaN            f   \n",
       "4               f              f                 f  ...    NaN            f   \n",
       "\n",
       "  T4U FTI_measured FTI TBG_measured   TBG  referral_source target  patient_id  \n",
       "0 NaN            f NaN            f   NaN            other      -   840801013  \n",
       "1 NaN            f NaN            f   NaN            other      -   840801014  \n",
       "2 NaN            f NaN            t  11.0            other      -   840801042  \n",
       "3 NaN            f NaN            t  26.0            other      -   840803046  \n",
       "4 NaN            f NaN            t  36.0            other      S   840803047  \n",
       "\n",
       "[5 rows x 31 columns]"
      ]
     },
     "execution_count": 5,
     "metadata": {},
     "output_type": "execute_result"
    }
   ],
   "source": [
    "ty_data.head()"
   ]
  },
  {
   "cell_type": "code",
   "execution_count": 6,
   "id": "3174ec92-4b37-4991-8c7c-60524ad2ec82",
   "metadata": {},
   "outputs": [
    {
     "data": {
      "text/html": [
       "<div>\n",
       "<style scoped>\n",
       "    .dataframe tbody tr th:only-of-type {\n",
       "        vertical-align: middle;\n",
       "    }\n",
       "\n",
       "    .dataframe tbody tr th {\n",
       "        vertical-align: top;\n",
       "    }\n",
       "\n",
       "    .dataframe thead th {\n",
       "        text-align: right;\n",
       "    }\n",
       "</style>\n",
       "<table border=\"1\" class=\"dataframe\">\n",
       "  <thead>\n",
       "    <tr style=\"text-align: right;\">\n",
       "      <th></th>\n",
       "      <th>age</th>\n",
       "      <th>sex</th>\n",
       "      <th>on_thyroxine</th>\n",
       "      <th>query_on_thyroxine</th>\n",
       "      <th>on_antithyroid_meds</th>\n",
       "      <th>sick</th>\n",
       "      <th>pregnant</th>\n",
       "      <th>thyroid_surgery</th>\n",
       "      <th>I131_treatment</th>\n",
       "      <th>query_hypothyroid</th>\n",
       "      <th>...</th>\n",
       "      <th>TT4</th>\n",
       "      <th>T4U_measured</th>\n",
       "      <th>T4U</th>\n",
       "      <th>FTI_measured</th>\n",
       "      <th>FTI</th>\n",
       "      <th>TBG_measured</th>\n",
       "      <th>TBG</th>\n",
       "      <th>referral_source</th>\n",
       "      <th>target</th>\n",
       "      <th>patient_id</th>\n",
       "    </tr>\n",
       "  </thead>\n",
       "  <tbody>\n",
       "    <tr>\n",
       "      <th>9167</th>\n",
       "      <td>56</td>\n",
       "      <td>M</td>\n",
       "      <td>f</td>\n",
       "      <td>f</td>\n",
       "      <td>f</td>\n",
       "      <td>f</td>\n",
       "      <td>f</td>\n",
       "      <td>f</td>\n",
       "      <td>f</td>\n",
       "      <td>f</td>\n",
       "      <td>...</td>\n",
       "      <td>64.0</td>\n",
       "      <td>t</td>\n",
       "      <td>0.83</td>\n",
       "      <td>t</td>\n",
       "      <td>77.0</td>\n",
       "      <td>f</td>\n",
       "      <td>NaN</td>\n",
       "      <td>SVI</td>\n",
       "      <td>-</td>\n",
       "      <td>870119022</td>\n",
       "    </tr>\n",
       "    <tr>\n",
       "      <th>9168</th>\n",
       "      <td>22</td>\n",
       "      <td>M</td>\n",
       "      <td>f</td>\n",
       "      <td>f</td>\n",
       "      <td>f</td>\n",
       "      <td>f</td>\n",
       "      <td>f</td>\n",
       "      <td>f</td>\n",
       "      <td>f</td>\n",
       "      <td>f</td>\n",
       "      <td>...</td>\n",
       "      <td>91.0</td>\n",
       "      <td>t</td>\n",
       "      <td>0.92</td>\n",
       "      <td>t</td>\n",
       "      <td>99.0</td>\n",
       "      <td>f</td>\n",
       "      <td>NaN</td>\n",
       "      <td>SVI</td>\n",
       "      <td>-</td>\n",
       "      <td>870119023</td>\n",
       "    </tr>\n",
       "    <tr>\n",
       "      <th>9169</th>\n",
       "      <td>69</td>\n",
       "      <td>M</td>\n",
       "      <td>f</td>\n",
       "      <td>f</td>\n",
       "      <td>f</td>\n",
       "      <td>f</td>\n",
       "      <td>f</td>\n",
       "      <td>f</td>\n",
       "      <td>f</td>\n",
       "      <td>f</td>\n",
       "      <td>...</td>\n",
       "      <td>113.0</td>\n",
       "      <td>t</td>\n",
       "      <td>1.27</td>\n",
       "      <td>t</td>\n",
       "      <td>89.0</td>\n",
       "      <td>f</td>\n",
       "      <td>NaN</td>\n",
       "      <td>SVI</td>\n",
       "      <td>I</td>\n",
       "      <td>870119025</td>\n",
       "    </tr>\n",
       "    <tr>\n",
       "      <th>9170</th>\n",
       "      <td>47</td>\n",
       "      <td>F</td>\n",
       "      <td>f</td>\n",
       "      <td>f</td>\n",
       "      <td>f</td>\n",
       "      <td>f</td>\n",
       "      <td>f</td>\n",
       "      <td>f</td>\n",
       "      <td>f</td>\n",
       "      <td>f</td>\n",
       "      <td>...</td>\n",
       "      <td>75.0</td>\n",
       "      <td>t</td>\n",
       "      <td>0.85</td>\n",
       "      <td>t</td>\n",
       "      <td>88.0</td>\n",
       "      <td>f</td>\n",
       "      <td>NaN</td>\n",
       "      <td>other</td>\n",
       "      <td>-</td>\n",
       "      <td>870119027</td>\n",
       "    </tr>\n",
       "    <tr>\n",
       "      <th>9171</th>\n",
       "      <td>31</td>\n",
       "      <td>M</td>\n",
       "      <td>f</td>\n",
       "      <td>f</td>\n",
       "      <td>f</td>\n",
       "      <td>f</td>\n",
       "      <td>f</td>\n",
       "      <td>f</td>\n",
       "      <td>f</td>\n",
       "      <td>t</td>\n",
       "      <td>...</td>\n",
       "      <td>66.0</td>\n",
       "      <td>t</td>\n",
       "      <td>1.02</td>\n",
       "      <td>t</td>\n",
       "      <td>65.0</td>\n",
       "      <td>f</td>\n",
       "      <td>NaN</td>\n",
       "      <td>other</td>\n",
       "      <td>-</td>\n",
       "      <td>870119035</td>\n",
       "    </tr>\n",
       "  </tbody>\n",
       "</table>\n",
       "<p>5 rows × 31 columns</p>\n",
       "</div>"
      ],
      "text/plain": [
       "      age sex on_thyroxine query_on_thyroxine on_antithyroid_meds sick  \\\n",
       "9167   56   M            f                  f                   f    f   \n",
       "9168   22   M            f                  f                   f    f   \n",
       "9169   69   M            f                  f                   f    f   \n",
       "9170   47   F            f                  f                   f    f   \n",
       "9171   31   M            f                  f                   f    f   \n",
       "\n",
       "     pregnant thyroid_surgery I131_treatment query_hypothyroid  ...    TT4  \\\n",
       "9167        f               f              f                 f  ...   64.0   \n",
       "9168        f               f              f                 f  ...   91.0   \n",
       "9169        f               f              f                 f  ...  113.0   \n",
       "9170        f               f              f                 f  ...   75.0   \n",
       "9171        f               f              f                 t  ...   66.0   \n",
       "\n",
       "     T4U_measured   T4U FTI_measured   FTI TBG_measured TBG  referral_source  \\\n",
       "9167            t  0.83            t  77.0            f NaN              SVI   \n",
       "9168            t  0.92            t  99.0            f NaN              SVI   \n",
       "9169            t  1.27            t  89.0            f NaN              SVI   \n",
       "9170            t  0.85            t  88.0            f NaN            other   \n",
       "9171            t  1.02            t  65.0            f NaN            other   \n",
       "\n",
       "     target  patient_id  \n",
       "9167      -   870119022  \n",
       "9168      -   870119023  \n",
       "9169      I   870119025  \n",
       "9170      -   870119027  \n",
       "9171      -   870119035  \n",
       "\n",
       "[5 rows x 31 columns]"
      ]
     },
     "execution_count": 6,
     "metadata": {},
     "output_type": "execute_result"
    }
   ],
   "source": [
    "ty_data.tail()"
   ]
  },
  {
   "cell_type": "code",
   "execution_count": 8,
   "id": "f5cbc77a-9977-4051-b291-7359ccf2375d",
   "metadata": {},
   "outputs": [],
   "source": [
    "from sklearn import preprocessing\n",
    "label_encoder=preprocessing.LabelEncoder()"
   ]
  },
  {
   "cell_type": "code",
   "execution_count": 9,
   "id": "745c00ae-c25c-4dc6-b0c1-5240c94b42e7",
   "metadata": {},
   "outputs": [
    {
     "data": {
      "text/plain": [
       "<bound method DataFrame.info of       age sex on_thyroxine query_on_thyroxine on_antithyroid_meds sick  \\\n",
       "0      29   F            f                  f                   f    f   \n",
       "1      29   F            f                  f                   f    f   \n",
       "2      41   F            f                  f                   f    f   \n",
       "3      36   F            f                  f                   f    f   \n",
       "4      32   F            f                  f                   f    f   \n",
       "...   ...  ..          ...                ...                 ...  ...   \n",
       "9167   56   M            f                  f                   f    f   \n",
       "9168   22   M            f                  f                   f    f   \n",
       "9169   69   M            f                  f                   f    f   \n",
       "9170   47   F            f                  f                   f    f   \n",
       "9171   31   M            f                  f                   f    f   \n",
       "\n",
       "     pregnant thyroid_surgery I131_treatment query_hypothyroid  ...    TT4  \\\n",
       "0           f               f              f                 t  ...    NaN   \n",
       "1           f               f              f                 f  ...  128.0   \n",
       "2           f               f              f                 f  ...    NaN   \n",
       "3           f               f              f                 f  ...    NaN   \n",
       "4           f               f              f                 f  ...    NaN   \n",
       "...       ...             ...            ...               ...  ...    ...   \n",
       "9167        f               f              f                 f  ...   64.0   \n",
       "9168        f               f              f                 f  ...   91.0   \n",
       "9169        f               f              f                 f  ...  113.0   \n",
       "9170        f               f              f                 f  ...   75.0   \n",
       "9171        f               f              f                 t  ...   66.0   \n",
       "\n",
       "     T4U_measured   T4U FTI_measured   FTI TBG_measured   TBG  \\\n",
       "0               f   NaN            f   NaN            f   NaN   \n",
       "1               f   NaN            f   NaN            f   NaN   \n",
       "2               f   NaN            f   NaN            t  11.0   \n",
       "3               f   NaN            f   NaN            t  26.0   \n",
       "4               f   NaN            f   NaN            t  36.0   \n",
       "...           ...   ...          ...   ...          ...   ...   \n",
       "9167            t  0.83            t  77.0            f   NaN   \n",
       "9168            t  0.92            t  99.0            f   NaN   \n",
       "9169            t  1.27            t  89.0            f   NaN   \n",
       "9170            t  0.85            t  88.0            f   NaN   \n",
       "9171            t  1.02            t  65.0            f   NaN   \n",
       "\n",
       "      referral_source target  patient_id  \n",
       "0               other      -   840801013  \n",
       "1               other      -   840801014  \n",
       "2               other      -   840801042  \n",
       "3               other      -   840803046  \n",
       "4               other      S   840803047  \n",
       "...               ...    ...         ...  \n",
       "9167              SVI      -   870119022  \n",
       "9168              SVI      -   870119023  \n",
       "9169              SVI      I   870119025  \n",
       "9170            other      -   870119027  \n",
       "9171            other      -   870119035  \n",
       "\n",
       "[9172 rows x 31 columns]>"
      ]
     },
     "execution_count": 9,
     "metadata": {},
     "output_type": "execute_result"
    }
   ],
   "source": [
    "ty_data.info"
   ]
  },
  {
   "cell_type": "code",
   "execution_count": 11,
   "id": "cf4f09a1-41e9-4623-a0bc-f0179e2fc8af",
   "metadata": {},
   "outputs": [],
   "source": [
    "binary_cols = ['on_thyroxine', 'query_on_thyroxine', 'on_antithyroid_meds', 'sick',\n",
    "               'pregnant', 'thyroid_surgery', 'I131_treatment', 'query_hypothyroid',\n",
    "               'query_hyperthyroid', 'lithium', 'goitre', 'tumor', 'hypopituitary',\n",
    "               'psych', 'T4U_measured', 'FTI_measured', 'TBG_measured']\n",
    "\n",
    "ty_data[binary_cols] = ty_data[binary_cols].replace({'t': 1, 'f': 0})\n"
   ]
  },
  {
   "cell_type": "code",
   "execution_count": 14,
   "id": "46cfa3be-ff08-4f3e-b0a9-f1825b1c374a",
   "metadata": {},
   "outputs": [],
   "source": [
    "from sklearn.preprocessing import LabelEncoder\n",
    "encoder = LabelEncoder()\n",
    "ty_data['sex'] = encoder.fit_transform(ty_data['sex'])"
   ]
  },
  {
   "cell_type": "code",
   "execution_count": 16,
   "id": "3c439d91-55d1-409f-ad61-bd61a7f6c156",
   "metadata": {},
   "outputs": [],
   "source": [
    "ty_data.drop(columns=['patient_id'], inplace=True)\n"
   ]
  },
  {
   "cell_type": "code",
   "execution_count": 17,
   "id": "f16c512a-86f0-4226-b8c7-ec89ec40a593",
   "metadata": {},
   "outputs": [
    {
     "name": "stdout",
     "output_type": "stream",
     "text": [
      "age                       0\n",
      "sex                       0\n",
      "on_thyroxine              0\n",
      "query_on_thyroxine        0\n",
      "on_antithyroid_meds       0\n",
      "sick                      0\n",
      "pregnant                  0\n",
      "thyroid_surgery           0\n",
      "I131_treatment            0\n",
      "query_hypothyroid         0\n",
      "query_hyperthyroid        0\n",
      "lithium                   0\n",
      "goitre                    0\n",
      "tumor                     0\n",
      "hypopituitary             0\n",
      "psych                     0\n",
      "TSH_measured              0\n",
      "TSH                     842\n",
      "T3_measured               0\n",
      "T3                     2604\n",
      "TT4_measured              0\n",
      "TT4                     442\n",
      "T4U_measured              0\n",
      "T4U                     809\n",
      "FTI_measured              0\n",
      "FTI                     802\n",
      "TBG_measured              0\n",
      "TBG                    8823\n",
      "referral_source           0\n",
      "target                    0\n",
      "dtype: int64\n"
     ]
    }
   ],
   "source": [
    "print(ty_data.isnull().sum())\n"
   ]
  },
  {
   "cell_type": "code",
   "execution_count": 19,
   "id": "0dea229f-fa2c-4923-b486-fe6777275684",
   "metadata": {},
   "outputs": [],
   "source": [
    "ty_data.fillna(ty_data.median(numeric_only=True), inplace=True)"
   ]
  },
  {
   "cell_type": "code",
   "execution_count": 20,
   "id": "70bddc6c-a43b-4ab9-86f4-83e7062d6882",
   "metadata": {},
   "outputs": [
    {
     "name": "stdout",
     "output_type": "stream",
     "text": [
      "age                    0\n",
      "sex                    0\n",
      "on_thyroxine           0\n",
      "query_on_thyroxine     0\n",
      "on_antithyroid_meds    0\n",
      "sick                   0\n",
      "pregnant               0\n",
      "thyroid_surgery        0\n",
      "I131_treatment         0\n",
      "query_hypothyroid      0\n",
      "query_hyperthyroid     0\n",
      "lithium                0\n",
      "goitre                 0\n",
      "tumor                  0\n",
      "hypopituitary          0\n",
      "psych                  0\n",
      "TSH_measured           0\n",
      "TSH                    0\n",
      "T3_measured            0\n",
      "T3                     0\n",
      "TT4_measured           0\n",
      "TT4                    0\n",
      "T4U_measured           0\n",
      "T4U                    0\n",
      "FTI_measured           0\n",
      "FTI                    0\n",
      "TBG_measured           0\n",
      "TBG                    0\n",
      "referral_source        0\n",
      "target                 0\n",
      "dtype: int64\n"
     ]
    }
   ],
   "source": [
    "print(ty_data.isnull().sum())"
   ]
  },
  {
   "cell_type": "code",
   "execution_count": 43,
   "id": "92913048-cf1f-4ee7-995a-e2b694fb857e",
   "metadata": {},
   "outputs": [
    {
     "data": {
      "text/plain": [
       "target\n",
       "0     6771\n",
       "19     436\n",
       "13     359\n",
       "2      346\n",
       "11     233\n",
       "31     196\n",
       "3      147\n",
       "21     115\n",
       "23     111\n",
       "26     110\n",
       "1       85\n",
       "15      49\n",
       "4       46\n",
       "18      30\n",
       "5       21\n",
       "25      16\n",
       "30      14\n",
       "27      14\n",
       "7       12\n",
       "20      11\n",
       "14      10\n",
       "17       8\n",
       "8        8\n",
       "12       6\n",
       "6        6\n",
       "29       5\n",
       "24       2\n",
       "22       1\n",
       "16       1\n",
       "28       1\n",
       "9        1\n",
       "10       1\n",
       "Name: count, dtype: int64"
      ]
     },
     "execution_count": 43,
     "metadata": {},
     "output_type": "execute_result"
    }
   ],
   "source": [
    "ty_data['target'].value_counts()"
   ]
  },
  {
   "cell_type": "code",
   "execution_count": 44,
   "id": "2cebe58e-cf05-4424-a482-e9a7312032ad",
   "metadata": {},
   "outputs": [],
   "source": [
    "x=ty_data.drop(columns=['target'],axis=1)\n",
    "y=ty_data['target']"
   ]
  },
  {
   "cell_type": "code",
   "execution_count": 45,
   "id": "3e67ab09-9dfd-4c91-a03f-609a6dcf1acb",
   "metadata": {},
   "outputs": [
    {
     "name": "stdout",
     "output_type": "stream",
     "text": [
      "      age  sex  on_thyroxine  query_on_thyroxine  on_antithyroid_meds  sick  \\\n",
      "0      29    0             0                   0                    0     0   \n",
      "1      29    0             0                   0                    0     0   \n",
      "2      41    0             0                   0                    0     0   \n",
      "3      36    0             0                   0                    0     0   \n",
      "4      32    0             0                   0                    0     0   \n",
      "...   ...  ...           ...                 ...                  ...   ...   \n",
      "9167   56    1             0                   0                    0     0   \n",
      "9168   22    1             0                   0                    0     0   \n",
      "9169   69    1             0                   0                    0     0   \n",
      "9170   47    0             0                   0                    0     0   \n",
      "9171   31    1             0                   0                    0     0   \n",
      "\n",
      "      pregnant  thyroid_surgery  I131_treatment  query_hypothyroid  ...   T4U  \\\n",
      "0            0                0               0                  1  ...  0.96   \n",
      "1            0                0               0                  0  ...  0.96   \n",
      "2            0                0               0                  0  ...  0.96   \n",
      "3            0                0               0                  0  ...  0.96   \n",
      "4            0                0               0                  0  ...  0.96   \n",
      "...        ...              ...             ...                ...  ...   ...   \n",
      "9167         0                0               0                  0  ...  0.83   \n",
      "9168         0                0               0                  0  ...  0.92   \n",
      "9169         0                0               0                  0  ...  1.27   \n",
      "9170         0                0               0                  0  ...  0.85   \n",
      "9171         0                0               0                  1  ...  1.02   \n",
      "\n",
      "      FTI_measured    FTI  TBG_measured   TBG  referral_source_SVHC  \\\n",
      "0                0  109.0             0  26.0                 False   \n",
      "1                0  109.0             0  26.0                 False   \n",
      "2                0  109.0             1  11.0                 False   \n",
      "3                0  109.0             1  26.0                 False   \n",
      "4                0  109.0             1  36.0                 False   \n",
      "...            ...    ...           ...   ...                   ...   \n",
      "9167             1   77.0             0  26.0                 False   \n",
      "9168             1   99.0             0  26.0                 False   \n",
      "9169             1   89.0             0  26.0                 False   \n",
      "9170             1   88.0             0  26.0                 False   \n",
      "9171             1   65.0             0  26.0                 False   \n",
      "\n",
      "      referral_source_SVHD  referral_source_SVI  referral_source_WEST  \\\n",
      "0                    False                False                 False   \n",
      "1                    False                False                 False   \n",
      "2                    False                False                 False   \n",
      "3                    False                False                 False   \n",
      "4                    False                False                 False   \n",
      "...                    ...                  ...                   ...   \n",
      "9167                 False                 True                 False   \n",
      "9168                 False                 True                 False   \n",
      "9169                 False                 True                 False   \n",
      "9170                 False                False                 False   \n",
      "9171                 False                False                 False   \n",
      "\n",
      "      referral_source_other  \n",
      "0                      True  \n",
      "1                      True  \n",
      "2                      True  \n",
      "3                      True  \n",
      "4                      True  \n",
      "...                     ...  \n",
      "9167                  False  \n",
      "9168                  False  \n",
      "9169                  False  \n",
      "9170                   True  \n",
      "9171                   True  \n",
      "\n",
      "[9172 rows x 33 columns]\n"
     ]
    }
   ],
   "source": [
    "print(x)"
   ]
  },
  {
   "cell_type": "code",
   "execution_count": 46,
   "id": "793b79bf-e8be-4653-b568-b2ef9e32ec65",
   "metadata": {},
   "outputs": [
    {
     "name": "stdout",
     "output_type": "stream",
     "text": [
      "0       0\n",
      "1       0\n",
      "2       0\n",
      "3       0\n",
      "4       1\n",
      "       ..\n",
      "9167    0\n",
      "9168    0\n",
      "9169    2\n",
      "9170    0\n",
      "9171    0\n",
      "Name: target, Length: 9172, dtype: int32\n"
     ]
    }
   ],
   "source": [
    "print(y)"
   ]
  },
  {
   "cell_type": "code",
   "execution_count": 47,
   "id": "c65bf6e8-d96b-4f61-aa4b-59abf8fa47b6",
   "metadata": {},
   "outputs": [],
   "source": [
    "x_train,x_test,y_train,y_test=train_test_split(x,y,test_size=0.2,random_state=2)"
   ]
  },
  {
   "cell_type": "code",
   "execution_count": 48,
   "id": "7d5f2c2a-23d8-4595-8020-987cc8915364",
   "metadata": {},
   "outputs": [
    {
     "name": "stdout",
     "output_type": "stream",
     "text": [
      "(9172, 33) (7337, 33) (1835, 33)\n"
     ]
    }
   ],
   "source": [
    "print(x.shape,x_train.shape,x_test.shape)"
   ]
  },
  {
   "cell_type": "code",
   "execution_count": 49,
   "id": "604e5dfe-e09d-43e3-a3eb-8cd3caf8a11b",
   "metadata": {},
   "outputs": [],
   "source": [
    "model=svm.SVC(kernel='linear')"
   ]
  },
  {
   "cell_type": "code",
   "execution_count": 50,
   "id": "429e7fb4-7b41-4b5d-ad57-f23b82048f0b",
   "metadata": {},
   "outputs": [
    {
     "data": {
      "text/html": [
       "<style>#sk-container-id-1 {color: black;background-color: white;}#sk-container-id-1 pre{padding: 0;}#sk-container-id-1 div.sk-toggleable {background-color: white;}#sk-container-id-1 label.sk-toggleable__label {cursor: pointer;display: block;width: 100%;margin-bottom: 0;padding: 0.3em;box-sizing: border-box;text-align: center;}#sk-container-id-1 label.sk-toggleable__label-arrow:before {content: \"▸\";float: left;margin-right: 0.25em;color: #696969;}#sk-container-id-1 label.sk-toggleable__label-arrow:hover:before {color: black;}#sk-container-id-1 div.sk-estimator:hover label.sk-toggleable__label-arrow:before {color: black;}#sk-container-id-1 div.sk-toggleable__content {max-height: 0;max-width: 0;overflow: hidden;text-align: left;background-color: #f0f8ff;}#sk-container-id-1 div.sk-toggleable__content pre {margin: 0.2em;color: black;border-radius: 0.25em;background-color: #f0f8ff;}#sk-container-id-1 input.sk-toggleable__control:checked~div.sk-toggleable__content {max-height: 200px;max-width: 100%;overflow: auto;}#sk-container-id-1 input.sk-toggleable__control:checked~label.sk-toggleable__label-arrow:before {content: \"▾\";}#sk-container-id-1 div.sk-estimator input.sk-toggleable__control:checked~label.sk-toggleable__label {background-color: #d4ebff;}#sk-container-id-1 div.sk-label input.sk-toggleable__control:checked~label.sk-toggleable__label {background-color: #d4ebff;}#sk-container-id-1 input.sk-hidden--visually {border: 0;clip: rect(1px 1px 1px 1px);clip: rect(1px, 1px, 1px, 1px);height: 1px;margin: -1px;overflow: hidden;padding: 0;position: absolute;width: 1px;}#sk-container-id-1 div.sk-estimator {font-family: monospace;background-color: #f0f8ff;border: 1px dotted black;border-radius: 0.25em;box-sizing: border-box;margin-bottom: 0.5em;}#sk-container-id-1 div.sk-estimator:hover {background-color: #d4ebff;}#sk-container-id-1 div.sk-parallel-item::after {content: \"\";width: 100%;border-bottom: 1px solid gray;flex-grow: 1;}#sk-container-id-1 div.sk-label:hover label.sk-toggleable__label {background-color: #d4ebff;}#sk-container-id-1 div.sk-serial::before {content: \"\";position: absolute;border-left: 1px solid gray;box-sizing: border-box;top: 0;bottom: 0;left: 50%;z-index: 0;}#sk-container-id-1 div.sk-serial {display: flex;flex-direction: column;align-items: center;background-color: white;padding-right: 0.2em;padding-left: 0.2em;position: relative;}#sk-container-id-1 div.sk-item {position: relative;z-index: 1;}#sk-container-id-1 div.sk-parallel {display: flex;align-items: stretch;justify-content: center;background-color: white;position: relative;}#sk-container-id-1 div.sk-item::before, #sk-container-id-1 div.sk-parallel-item::before {content: \"\";position: absolute;border-left: 1px solid gray;box-sizing: border-box;top: 0;bottom: 0;left: 50%;z-index: -1;}#sk-container-id-1 div.sk-parallel-item {display: flex;flex-direction: column;z-index: 1;position: relative;background-color: white;}#sk-container-id-1 div.sk-parallel-item:first-child::after {align-self: flex-end;width: 50%;}#sk-container-id-1 div.sk-parallel-item:last-child::after {align-self: flex-start;width: 50%;}#sk-container-id-1 div.sk-parallel-item:only-child::after {width: 0;}#sk-container-id-1 div.sk-dashed-wrapped {border: 1px dashed gray;margin: 0 0.4em 0.5em 0.4em;box-sizing: border-box;padding-bottom: 0.4em;background-color: white;}#sk-container-id-1 div.sk-label label {font-family: monospace;font-weight: bold;display: inline-block;line-height: 1.2em;}#sk-container-id-1 div.sk-label-container {text-align: center;}#sk-container-id-1 div.sk-container {/* jupyter's `normalize.less` sets `[hidden] { display: none; }` but bootstrap.min.css set `[hidden] { display: none !important; }` so we also need the `!important` here to be able to override the default hidden behavior on the sphinx rendered scikit-learn.org. See: https://github.com/scikit-learn/scikit-learn/issues/21755 */display: inline-block !important;position: relative;}#sk-container-id-1 div.sk-text-repr-fallback {display: none;}</style><div id=\"sk-container-id-1\" class=\"sk-top-container\"><div class=\"sk-text-repr-fallback\"><pre>SVC(kernel=&#x27;linear&#x27;)</pre><b>In a Jupyter environment, please rerun this cell to show the HTML representation or trust the notebook. <br />On GitHub, the HTML representation is unable to render, please try loading this page with nbviewer.org.</b></div><div class=\"sk-container\" hidden><div class=\"sk-item\"><div class=\"sk-estimator sk-toggleable\"><input class=\"sk-toggleable__control sk-hidden--visually\" id=\"sk-estimator-id-1\" type=\"checkbox\" checked><label for=\"sk-estimator-id-1\" class=\"sk-toggleable__label sk-toggleable__label-arrow\">SVC</label><div class=\"sk-toggleable__content\"><pre>SVC(kernel=&#x27;linear&#x27;)</pre></div></div></div></div></div>"
      ],
      "text/plain": [
       "SVC(kernel='linear')"
      ]
     },
     "execution_count": 50,
     "metadata": {},
     "output_type": "execute_result"
    }
   ],
   "source": [
    "model.fit(x_train,y_train)"
   ]
  },
  {
   "cell_type": "code",
   "execution_count": 30,
   "id": "1f4a1224-e58b-4a0d-9320-60d2b6988390",
   "metadata": {},
   "outputs": [
    {
     "name": "stdout",
     "output_type": "stream",
     "text": [
      "age                      int64\n",
      "sex                      int32\n",
      "on_thyroxine             int64\n",
      "query_on_thyroxine       int64\n",
      "on_antithyroid_meds      int64\n",
      "sick                     int64\n",
      "pregnant                 int64\n",
      "thyroid_surgery          int64\n",
      "I131_treatment           int64\n",
      "query_hypothyroid        int64\n",
      "query_hyperthyroid       int64\n",
      "lithium                  int64\n",
      "goitre                   int64\n",
      "tumor                    int64\n",
      "hypopituitary            int64\n",
      "psych                    int64\n",
      "TSH_measured            object\n",
      "TSH                    float64\n",
      "T3_measured             object\n",
      "T3                     float64\n",
      "TT4_measured            object\n",
      "TT4                    float64\n",
      "T4U_measured             int64\n",
      "T4U                    float64\n",
      "FTI_measured             int64\n",
      "FTI                    float64\n",
      "TBG_measured             int64\n",
      "TBG                    float64\n",
      "referral_source         object\n",
      "target                  object\n",
      "dtype: object\n"
     ]
    }
   ],
   "source": [
    "print(ty_data.dtypes)\n"
   ]
  },
  {
   "cell_type": "code",
   "execution_count": 33,
   "id": "d659d5b5-914e-48fe-ba09-761c9239758f",
   "metadata": {},
   "outputs": [],
   "source": [
    "binary_cols = ['TSH_measured', 'T3_measured', 'TT4_measured']\n",
    "ty_data[binary_cols] = ty_data[binary_cols].replace({'t': 1, 'f': 0})\n",
    "ty_data[binary_cols] = ty_data[binary_cols].astype(int)  # Ensure they are integers\n"
   ]
  },
  {
   "cell_type": "code",
   "execution_count": 34,
   "id": "ba3523cc-1e80-4af9-9079-8c6afcc6f17f",
   "metadata": {},
   "outputs": [],
   "source": [
    "ty_data = pd.get_dummies(ty_data, columns=['referral_source'], drop_first=True)\n"
   ]
  },
  {
   "cell_type": "code",
   "execution_count": 36,
   "id": "452a8f9d-7352-410e-841a-d51cf3b47a19",
   "metadata": {},
   "outputs": [
    {
     "name": "stdout",
     "output_type": "stream",
     "text": [
      "age                        int64\n",
      "sex                        int32\n",
      "on_thyroxine               int64\n",
      "query_on_thyroxine         int64\n",
      "on_antithyroid_meds        int64\n",
      "sick                       int64\n",
      "pregnant                   int64\n",
      "thyroid_surgery            int64\n",
      "I131_treatment             int64\n",
      "query_hypothyroid          int64\n",
      "query_hyperthyroid         int64\n",
      "lithium                    int64\n",
      "goitre                     int64\n",
      "tumor                      int64\n",
      "hypopituitary              int64\n",
      "psych                      int64\n",
      "TSH_measured               int32\n",
      "TSH                      float64\n",
      "T3_measured                int32\n",
      "T3                       float64\n",
      "TT4_measured               int32\n",
      "TT4                      float64\n",
      "T4U_measured               int64\n",
      "T4U                      float64\n",
      "FTI_measured               int64\n",
      "FTI                      float64\n",
      "TBG_measured               int64\n",
      "TBG                      float64\n",
      "target                    object\n",
      "referral_source_SVHC        bool\n",
      "referral_source_SVHD        bool\n",
      "referral_source_SVI         bool\n",
      "referral_source_WEST        bool\n",
      "referral_source_other       bool\n",
      "dtype: object\n"
     ]
    }
   ],
   "source": [
    "print(ty_data.dtypes)"
   ]
  },
  {
   "cell_type": "code",
   "execution_count": 37,
   "id": "f9c57128-5139-4459-bf61-0f2fa97b98c9",
   "metadata": {},
   "outputs": [
    {
     "name": "stdout",
     "output_type": "stream",
     "text": [
      "[0 1 'F' 'AK' 'R' 2 'M' 'N' 'G' 'K' 'A' 'KJ' 'L' 'MK' 'Q' 'J' 'C|I' 'O'\n",
      " 'LJ' 'H|K' 'D' 'GK' 'MI' 'P' 'FK' 'B' 'GI' 'C' 'GKJ' 'OI' 'D|R' 'E']\n"
     ]
    }
   ],
   "source": [
    "print(ty_data['target'].unique())\n"
   ]
  },
  {
   "cell_type": "code",
   "execution_count": 38,
   "id": "3f4efe4d-c7e1-4aeb-8cd2-19443c63e8e5",
   "metadata": {},
   "outputs": [
    {
     "name": "stdout",
     "output_type": "stream",
     "text": [
      "object\n"
     ]
    }
   ],
   "source": [
    "print(ty_data['target'].dtype)\n"
   ]
  },
  {
   "cell_type": "code",
   "execution_count": 39,
   "id": "e5c4759b-0d2c-4bd9-a51b-5a4837a1ce2a",
   "metadata": {},
   "outputs": [],
   "source": [
    "ty_data['target'] = ty_data['target'].astype(str)\n"
   ]
  },
  {
   "cell_type": "code",
   "execution_count": 40,
   "id": "53b6749c-06f5-42b9-9992-ffcd77f3dbfd",
   "metadata": {},
   "outputs": [],
   "source": [
    "from sklearn.preprocessing import LabelEncoder\n",
    "\n",
    "le = LabelEncoder()\n",
    "ty_data['target'] = le.fit_transform(ty_data['target'])\n"
   ]
  },
  {
   "cell_type": "code",
   "execution_count": 42,
   "id": "64bcdc4e-adf5-4aaf-84b7-a13aafc304e2",
   "metadata": {},
   "outputs": [
    {
     "name": "stdout",
     "output_type": "stream",
     "text": [
      "age                        int64\n",
      "sex                        int32\n",
      "on_thyroxine               int64\n",
      "query_on_thyroxine         int64\n",
      "on_antithyroid_meds        int64\n",
      "sick                       int64\n",
      "pregnant                   int64\n",
      "thyroid_surgery            int64\n",
      "I131_treatment             int64\n",
      "query_hypothyroid          int64\n",
      "query_hyperthyroid         int64\n",
      "lithium                    int64\n",
      "goitre                     int64\n",
      "tumor                      int64\n",
      "hypopituitary              int64\n",
      "psych                      int64\n",
      "TSH_measured               int32\n",
      "TSH                      float64\n",
      "T3_measured                int32\n",
      "T3                       float64\n",
      "TT4_measured               int32\n",
      "TT4                      float64\n",
      "T4U_measured               int64\n",
      "T4U                      float64\n",
      "FTI_measured               int64\n",
      "FTI                      float64\n",
      "TBG_measured               int64\n",
      "TBG                      float64\n",
      "target                     int32\n",
      "referral_source_SVHC        bool\n",
      "referral_source_SVHD        bool\n",
      "referral_source_SVI         bool\n",
      "referral_source_WEST        bool\n",
      "referral_source_other       bool\n",
      "dtype: object\n"
     ]
    }
   ],
   "source": [
    "print(ty_data.dtypes)"
   ]
  },
  {
   "cell_type": "code",
   "execution_count": 51,
   "id": "5964eea2-c0c4-4be5-8d0b-74b249ab2b59",
   "metadata": {},
   "outputs": [],
   "source": [
    "x_train_prediction=model.predict(x_train)\n",
    "training_data_accuracy=accuracy_score(y_train,x_train_prediction)"
   ]
  },
  {
   "cell_type": "code",
   "execution_count": 52,
   "id": "f36b2b6b-59c0-41b8-a6a8-22077c131d2e",
   "metadata": {},
   "outputs": [
    {
     "name": "stdout",
     "output_type": "stream",
     "text": [
      "accuracy of training data: 0.8943709963200218\n"
     ]
    }
   ],
   "source": [
    "print('accuracy of training data:',training_data_accuracy)"
   ]
  },
  {
   "cell_type": "code",
   "execution_count": 53,
   "id": "5f07a011-3080-456a-aad9-3c9b4f5c42f0",
   "metadata": {},
   "outputs": [],
   "source": [
    "x_test_prediction=model.predict(x_test)\n",
    "test_data_accuracy=accuracy_score(y_test,x_test_prediction)"
   ]
  },
  {
   "cell_type": "code",
   "execution_count": 54,
   "id": "1d575ae8-345d-4f57-b1d0-54ce9de9dc1a",
   "metadata": {},
   "outputs": [
    {
     "name": "stdout",
     "output_type": "stream",
     "text": [
      "accuracy of test data: 0.885558583106267\n"
     ]
    }
   ],
   "source": [
    "print('accuracy of test data:',test_data_accuracy)"
   ]
  },
  {
   "cell_type": "code",
   "execution_count": 55,
   "id": "e1013a9f-d7a1-43f5-9178-7a9d2dbed483",
   "metadata": {},
   "outputs": [
    {
     "data": {
      "text/plain": [
       "<bound method DataFrame.info of       age  sex  on_thyroxine  query_on_thyroxine  on_antithyroid_meds  sick  \\\n",
       "0      29    0             0                   0                    0     0   \n",
       "1      29    0             0                   0                    0     0   \n",
       "2      41    0             0                   0                    0     0   \n",
       "3      36    0             0                   0                    0     0   \n",
       "4      32    0             0                   0                    0     0   \n",
       "...   ...  ...           ...                 ...                  ...   ...   \n",
       "9167   56    1             0                   0                    0     0   \n",
       "9168   22    1             0                   0                    0     0   \n",
       "9169   69    1             0                   0                    0     0   \n",
       "9170   47    0             0                   0                    0     0   \n",
       "9171   31    1             0                   0                    0     0   \n",
       "\n",
       "      pregnant  thyroid_surgery  I131_treatment  query_hypothyroid  ...  \\\n",
       "0            0                0               0                  1  ...   \n",
       "1            0                0               0                  0  ...   \n",
       "2            0                0               0                  0  ...   \n",
       "3            0                0               0                  0  ...   \n",
       "4            0                0               0                  0  ...   \n",
       "...        ...              ...             ...                ...  ...   \n",
       "9167         0                0               0                  0  ...   \n",
       "9168         0                0               0                  0  ...   \n",
       "9169         0                0               0                  0  ...   \n",
       "9170         0                0               0                  0  ...   \n",
       "9171         0                0               0                  1  ...   \n",
       "\n",
       "      FTI_measured    FTI  TBG_measured   TBG  target  referral_source_SVHC  \\\n",
       "0                0  109.0             0  26.0       0                 False   \n",
       "1                0  109.0             0  26.0       0                 False   \n",
       "2                0  109.0             1  11.0       0                 False   \n",
       "3                0  109.0             1  26.0       0                 False   \n",
       "4                0  109.0             1  36.0       1                 False   \n",
       "...            ...    ...           ...   ...     ...                   ...   \n",
       "9167             1   77.0             0  26.0       0                 False   \n",
       "9168             1   99.0             0  26.0       0                 False   \n",
       "9169             1   89.0             0  26.0       2                 False   \n",
       "9170             1   88.0             0  26.0       0                 False   \n",
       "9171             1   65.0             0  26.0       0                 False   \n",
       "\n",
       "      referral_source_SVHD  referral_source_SVI  referral_source_WEST  \\\n",
       "0                    False                False                 False   \n",
       "1                    False                False                 False   \n",
       "2                    False                False                 False   \n",
       "3                    False                False                 False   \n",
       "4                    False                False                 False   \n",
       "...                    ...                  ...                   ...   \n",
       "9167                 False                 True                 False   \n",
       "9168                 False                 True                 False   \n",
       "9169                 False                 True                 False   \n",
       "9170                 False                False                 False   \n",
       "9171                 False                False                 False   \n",
       "\n",
       "      referral_source_other  \n",
       "0                      True  \n",
       "1                      True  \n",
       "2                      True  \n",
       "3                      True  \n",
       "4                      True  \n",
       "...                     ...  \n",
       "9167                  False  \n",
       "9168                  False  \n",
       "9169                  False  \n",
       "9170                   True  \n",
       "9171                   True  \n",
       "\n",
       "[9172 rows x 34 columns]>"
      ]
     },
     "execution_count": 55,
     "metadata": {},
     "output_type": "execute_result"
    }
   ],
   "source": [
    "ty_data.info"
   ]
  },
  {
   "cell_type": "code",
   "execution_count": 58,
   "id": "bbcfce36-a7e1-4219-99e3-526558ef52b5",
   "metadata": {},
   "outputs": [
    {
     "name": "stdout",
     "output_type": "stream",
     "text": [
      "The person does NOT have heart disease.\n"
     ]
    },
    {
     "name": "stderr",
     "output_type": "stream",
     "text": [
      "C:\\ProgramData\\anaconda3\\Lib\\site-packages\\sklearn\\base.py:439: UserWarning: X does not have valid feature names, but SVC was fitted with feature names\n",
      "  warnings.warn(\n"
     ]
    }
   ],
   "source": [
    "from sklearn.preprocessing import StandardScaler\n",
    "import numpy as np\n",
    "\n",
    "# Define input data for prediction (replace with actual values)\n",
    "input_data = (\n",
    "    57,  # age\n",
    "    1,   # sex (0 = female, 1 = male)\n",
    "    0,   # on_thyroxine\n",
    "    0,   # query_on_thyroxine\n",
    "    0,   # on_antithyroid_meds\n",
    "    0,   # sick\n",
    "    0,   # pregnant\n",
    "    0,   # thyroid_surgery\n",
    "    0,   # I131_treatment\n",
    "    0,   # query_hypothyroid\n",
    "    0,   # query_hyperthyroid\n",
    "    0,   # lithium\n",
    "    0,   # goitre\n",
    "    0,   # tumor\n",
    "    0,   # hypopituitary\n",
    "    0,   # psych\n",
    "    1,   # TSH_measured\n",
    "    1.5, # TSH\n",
    "    1,   # T3_measured\n",
    "    2.1, # T3\n",
    "    1,   # TT4_measured\n",
    "    120, # TT4\n",
    "    1,   # T4U_measured\n",
    "    1.0, # T4U\n",
    "    1,   # FTI_measured\n",
    "    100, # FTI\n",
    "    1,   # TBG_measured\n",
    "    20.0,# TBG\n",
    "\n",
    "    # One-hot encoded referral_source (choose one as 1, others as 0)\n",
    "    0,   # referral_source_SVHC\n",
    "    0,   # referral_source_SVHD\n",
    "    1,   # referral_source_SVI (selected)\n",
    "    0,   # referral_source_WEST\n",
    "    0    # referral_source_other\n",
    ")  # Original 13 features\n",
    "               \n",
    "input_data_as_numpy_array = np.asarray(input_data)\n",
    "input_data_reshaped = input_data_as_numpy_array.reshape(1, -1)\n",
    "\n",
    "# Make prediction\n",
    "prediction = model.predict(input_data_reshaped)\n",
    "\n",
    "# Print results\n",
    "if prediction[0] == 0:\n",
    "    print(\"The person does NOT have heart disease.\")\n",
    "else:\n",
    "    print(\"The person HAS heart disease.\")\n"
   ]
  },
  {
   "cell_type": "code",
   "execution_count": 59,
   "id": "ef140b1d-dc1f-48d2-a348-c2a1398179f0",
   "metadata": {},
   "outputs": [],
   "source": [
    "import pickle\n",
    "filename='parkinsons_model_sav'\n",
    "pickle.dump(model,open(filename,'wb'))"
   ]
  },
  {
   "cell_type": "code",
   "execution_count": 60,
   "id": "165f3487-c64c-46bc-baa8-8ee01702901f",
   "metadata": {},
   "outputs": [],
   "source": [
    "loaded_model=pickle.load(open(filename,'rb'))"
   ]
  },
  {
   "cell_type": "code",
   "execution_count": 61,
   "id": "ee2f9b2f-c62d-4d95-afaf-5008ce96ef83",
   "metadata": {},
   "outputs": [
    {
     "name": "stdout",
     "output_type": "stream",
     "text": [
      "age\n",
      "sex\n",
      "on_thyroxine\n",
      "query_on_thyroxine\n",
      "on_antithyroid_meds\n",
      "sick\n",
      "pregnant\n",
      "thyroid_surgery\n",
      "I131_treatment\n",
      "query_hypothyroid\n",
      "query_hyperthyroid\n",
      "lithium\n",
      "goitre\n",
      "tumor\n",
      "hypopituitary\n",
      "psych\n",
      "TSH_measured\n",
      "TSH\n",
      "T3_measured\n",
      "T3\n",
      "TT4_measured\n",
      "TT4\n",
      "T4U_measured\n",
      "T4U\n",
      "FTI_measured\n",
      "FTI\n",
      "TBG_measured\n",
      "TBG\n",
      "referral_source_SVHC\n",
      "referral_source_SVHD\n",
      "referral_source_SVI\n",
      "referral_source_WEST\n",
      "referral_source_other\n"
     ]
    }
   ],
   "source": [
    "for column in x_train.columns:\n",
    "    print(column)"
   ]
  },
  {
   "cell_type": "code",
   "execution_count": null,
   "id": "bc26bd23-5012-4dd3-9a2f-020af03716a0",
   "metadata": {},
   "outputs": [],
   "source": []
  }
 ],
 "metadata": {
  "kernelspec": {
   "display_name": "Python 3 (ipykernel)",
   "language": "python",
   "name": "python3"
  },
  "language_info": {
   "codemirror_mode": {
    "name": "ipython",
    "version": 3
   },
   "file_extension": ".py",
   "mimetype": "text/x-python",
   "name": "python",
   "nbconvert_exporter": "python",
   "pygments_lexer": "ipython3",
   "version": "3.11.7"
  }
 },
 "nbformat": 4,
 "nbformat_minor": 5
}
